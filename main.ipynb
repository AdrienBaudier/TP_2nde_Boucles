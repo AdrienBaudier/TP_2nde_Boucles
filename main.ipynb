{
 "cells": [
  {
   "cell_type": "markdown",
   "metadata": {},
   "source": [
    "## **Les instructions répétitives**"
   ]
  },
  {
   "cell_type": "markdown",
   "metadata": {},
   "source": [
    "Pour répéter des instructions identiques, on utilise des **boucles**. Il y en a deux types qui fonctionnent de manière différentes."
   ]
  },
  {
   "cell_type": "markdown",
   "metadata": {},
   "source": [
    "### **Boucle For (Pour)**"
   ]
  },
  {
   "cell_type": "markdown",
   "metadata": {},
   "source": [
    "La boucle ***Pour*** permet de répéter une séquence d'instructions un certain nombre de fois\n",
    "\n",
    "![pseudo code boucle pour](./images/pour.png)\n",
    "\n",
    "`i` est une variable qui va prendre des valeurs successives de 1 jusqu'à n.\n",
    "On peut observer cela avec le code suivant :"
   ]
  },
  {
   "cell_type": "code",
   "execution_count": null,
   "metadata": {},
   "outputs": [],
   "source": [
    "for i in range(1,11):\n",
    "    print(\"i a la valeur : \",i)"
   ]
  },
  {
   "cell_type": "markdown",
   "metadata": {},
   "source": [
    "La syntaxe utilisée en Python utilise le mot clé `for`.\n",
    "On indique ensuite la variable qui va évoluée au fur et à mesure des répétitions puis ensuite `in range` qui permet d'indiquer les bornes entre lesquelles va varier notre variable. On met alors entre parenthèse le nombre de départ et le nombre de fin (Il est à noter que l'on atteint pas cette dernière valeur, il faut donc souvent ajouter 1 à la valeur souhaitée).\n",
    "\n",
    "Comme toutes les instructions Python, on termine la ligne avec le symbole `:` et on marque les instructions avec une *indentation*.\n",
    "\n",
    "On peut alors faire des opérations qui vont dépender de cette variable. On peut ainsi par exemple calculer les carrés des premiers nombres entiers :"
   ]
  },
  {
   "cell_type": "code",
   "execution_count": null,
   "metadata": {},
   "outputs": [],
   "source": [
    "for i in range(20,31):\n",
    "    print(\"Le carré de \", i, \" est \", i**2)"
   ]
  },
  {
   "cell_type": "markdown",
   "metadata": {},
   "source": [
    "### **Exercice 1**"
   ]
  },
  {
   "cell_type": "markdown",
   "metadata": {},
   "source": [
    "Compléter le promgramme suivant afin de calculer la somme des `N` premiers nombres entiers."
   ]
  },
  {
   "cell_type": "code",
   "execution_count": null,
   "metadata": {},
   "outputs": [],
   "source": [
    "N = 150\n",
    "Somme = 0\n",
    "# Compléter le programme\n",
    "\n",
    "\n",
    "\n",
    "#########\n",
    "print(\"La somme des \", N, \" premiers nombres entiers est : \", Somme)"
   ]
  },
  {
   "cell_type": "markdown",
   "metadata": {},
   "source": [
    "### **Les listes**"
   ]
  },
  {
   "cell_type": "markdown",
   "metadata": {},
   "source": [
    "Avec les boucles, on utilise souvent des listes qui sont plus propices à l'utilisation des itérations.\n",
    "\n",
    "On définit une liste avec des crochets en Python : `liste = [1,2,3,4,5,6]`\n",
    "\n",
    "On peut alors accéder à chaque élément de la liste de manière individuelle en donnant le rang de l'élément que l'on veut ou bien afficher la liste en entier."
   ]
  },
  {
   "cell_type": "code",
   "execution_count": null,
   "metadata": {},
   "outputs": [],
   "source": [
    "liste = [5,10,15,20,25,30]\n",
    "print(liste[0])\n",
    "print(liste[1])\n",
    "print(liste[3])\n",
    "print(liste)"
   ]
  },
  {
   "cell_type": "markdown",
   "metadata": {},
   "source": [
    "Il faut remarquer que le premier élément est l'élément de rang **0**"
   ]
  },
  {
   "cell_type": "markdown",
   "metadata": {},
   "source": [
    "On peut obtenir le nombre d'éléments que contient la liste en utilisant l'instruction suivante : "
   ]
  },
  {
   "cell_type": "code",
   "execution_count": null,
   "metadata": {},
   "outputs": [],
   "source": [
    "len(liste)"
   ]
  },
  {
   "cell_type": "markdown",
   "metadata": {},
   "source": [
    "On peut alors utiliser la boucle *For* pour ***parcourir*** la liste (On commence bien la boucle à 0)"
   ]
  },
  {
   "cell_type": "code",
   "execution_count": null,
   "metadata": {},
   "outputs": [],
   "source": [
    "for i in range(0,len(liste)):\n",
    "    print(\"L'élément de rang \", i, \" de la liste est : \",liste[i])"
   ]
  },
  {
   "cell_type": "markdown",
   "metadata": {},
   "source": [
    "### **Exercice 2**"
   ]
  },
  {
   "cell_type": "markdown",
   "metadata": {},
   "source": [
    "Compléter le promgramme afin de calculer la somme de tous les éléments de la liste `L`"
   ]
  },
  {
   "cell_type": "code",
   "execution_count": null,
   "metadata": {},
   "outputs": [],
   "source": [
    "from random import randint\n",
    "L = [randint(1,100) for _ in range(20)]\n",
    "somme = 0\n",
    "# A compléter\n",
    "\n",
    "\n",
    "\n",
    "\n",
    "\n",
    "#########\n",
    "print(\"L = \",L)\n",
    "print(\"La somme des éléments de L est : \",somme)"
   ]
  },
  {
   "cell_type": "markdown",
   "metadata": {},
   "source": [
    "### **Exercice 3**"
   ]
  },
  {
   "cell_type": "markdown",
   "metadata": {},
   "source": [
    "Compléter le code ci-dessous afin de déterminer l'élément maximum de la liste `L`."
   ]
  },
  {
   "cell_type": "code",
   "execution_count": null,
   "metadata": {},
   "outputs": [],
   "source": [
    "from random import randint\n",
    "L = [randint(1,100) for _ in range(20)]\n",
    "maximum = -1\n",
    "# A compléter\n",
    "\n",
    "\n",
    "\n",
    "\n",
    "\n",
    "#########\n",
    "print(\"L = \",L)\n",
    "print(\"Le maximum de la liste L est : \",maximum)"
   ]
  },
  {
   "cell_type": "markdown",
   "metadata": {},
   "source": [
    "### **Boucle While (Tant que)**"
   ]
  },
  {
   "cell_type": "markdown",
   "metadata": {},
   "source": [
    "![pseudo code boucle tant que](./images/tant_que.png)\n",
    "\n",
    "La boucle ***Tant que*** permet de répéter des instructions tant qu'une condition est vraie.\n",
    "\n",
    "En Python, on utilise le mot-clé `while`.\n",
    "Le programme suivant permet par exemple de déterminer un encadrement de la racine carré d'un nombre entier `N`"
   ]
  },
  {
   "cell_type": "code",
   "execution_count": null,
   "metadata": {},
   "outputs": [],
   "source": [
    "N=int(input(\"Entrer un nombre entier positif : \"))\n",
    "n=0\n",
    "while(n**2 < N):\n",
    "    n=n+1\n",
    "print(\"La racine carrée de \",N,\" est entre \",n-1,\" et \", n)"
   ]
  },
  {
   "cell_type": "markdown",
   "metadata": {},
   "source": [
    "### **Exercice 4**"
   ]
  },
  {
   "cell_type": "markdown",
   "metadata": {},
   "source": [
    "Afin de pouvoir mieux combattre les différentes épidémies, le département de médecine de l'université a lancé une grande étude. En particulier, les chercheurs s'intéressent à la vitesse de propagation d'une épidémie au sein d'une commune donnée, et donc à la vitesse à laquelle des mesures sanitaires doivent êtres mises en place.\n",
    "\n",
    "Sachant qu'une personne était malade au jour 1 dans la ville, et que chaque jour 3 personnes supplémentaires sont contaminées, le programme doit calculer à partir de quel jour toute la population de la ville sera malade. "
   ]
  },
  {
   "cell_type": "code",
   "execution_count": null,
   "metadata": {},
   "outputs": [],
   "source": [
    "n = int(input(\"Quelle est la population totale de la ville ? \")) # Nombre d'habitants dans la ville\n",
    "jour = 1\n",
    "nb_infectes = 1\n",
    "# A compléter\n",
    "\n",
    "\n",
    "\n",
    "\n",
    "\n",
    "#################\n",
    "print(\"Toute la ville sera infectée après \",jour, \" jours.\")"
   ]
  }
 ],
 "metadata": {
  "kernelspec": {
   "display_name": "Python 3",
   "language": "python",
   "name": "python3"
  },
  "language_info": {
   "codemirror_mode": {
    "name": "ipython",
    "version": 3
   },
   "file_extension": ".py",
   "mimetype": "text/x-python",
   "name": "python",
   "nbconvert_exporter": "python",
   "pygments_lexer": "ipython3",
   "version": "3.6.8"
  }
 },
 "nbformat": 4,
 "nbformat_minor": 2
}
